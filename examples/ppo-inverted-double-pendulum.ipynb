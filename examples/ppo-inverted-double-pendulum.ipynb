{
 "cells": [
  {
   "cell_type": "code",
   "execution_count": null,
   "metadata": {},
   "outputs": [],
   "source": [
    "%load_ext autoreload\n",
    "%autoreload 2"
   ]
  },
  {
   "cell_type": "code",
   "execution_count": null,
   "metadata": {},
   "outputs": [],
   "source": [
    "from shark.utils import nb_init\n",
    "\n",
    "nb_init()"
   ]
  },
  {
   "cell_type": "markdown",
   "metadata": {},
   "source": [
    "# PPO againt on Inverted Double Pendulum"
   ]
  },
  {
   "cell_type": "code",
   "execution_count": null,
   "metadata": {},
   "outputs": [],
   "source": [
    "from loguru import logger\n",
    "import os\n",
    "import lightning.pytorch as pl\n",
    "from lightning.pytorch.loggers import CSVLogger\n",
    "import pandas as pd\n",
    "\n",
    "from shark.models import PPOPendulum\n",
    "from shark.utils import plot_metrics"
   ]
  },
  {
   "cell_type": "markdown",
   "metadata": {},
   "source": [
    "## Create model\n",
    "\n",
    "We choose the gymnasium environment here."
   ]
  },
  {
   "cell_type": "code",
   "execution_count": null,
   "metadata": {},
   "outputs": [],
   "source": [
    "frame_skip = 1\n",
    "frames_per_batch = frame_skip * 100\n",
    "model = PPOPendulum(\n",
    "    frame_skip=frame_skip,\n",
    "    frames_per_batch=frames_per_batch,\n",
    ")"
   ]
  },
  {
   "cell_type": "markdown",
   "metadata": {},
   "source": [
    "## Rollout\n",
    "\n",
    "We can immediately try to play, and check what playing returns."
   ]
  },
  {
   "cell_type": "code",
   "execution_count": null,
   "metadata": {},
   "outputs": [],
   "source": [
    "rollout = model.env.rollout(3)\n",
    "logger.info(f\"Rollout of three steps: {rollout}\")\n",
    "logger.info(f\"Shape of the rollout TensorDict: {rollout.batch_size}\")\n",
    "logger.info(f\"Running policy: {model.policy_module(model.env.reset())}\")\n",
    "logger.info(f\"Running value: {model.value_module(model.env.reset())}\")"
   ]
  },
  {
   "cell_type": "markdown",
   "metadata": {},
   "source": [
    "## Data\n",
    "\n",
    "This is what a batch of data looks like."
   ]
  },
  {
   "cell_type": "code",
   "execution_count": null,
   "metadata": {},
   "outputs": [],
   "source": [
    "# Collector\n",
    "collector = model.train_dataloader()\n",
    "for _, tensordict_data in enumerate(collector):\n",
    "    logger.info(f\"Tensordict data:\\n{tensordict_data}\")\n",
    "    batch_size = int(tensordict_data.batch_size[0])\n",
    "    assert batch_size == int(frames_per_batch // frame_skip)\n",
    "    break"
   ]
  },
  {
   "cell_type": "code",
   "execution_count": null,
   "metadata": {},
   "outputs": [],
   "source": [
    "# Training\n",
    "trainer = pl.Trainer(\n",
    "    accelerator=\"cpu\",\n",
    "    max_steps=16,\n",
    "    val_check_interval=2,\n",
    "    log_every_n_steps=1,\n",
    "    logger=CSVLogger(\n",
    "        save_dir=\"pytest_artifacts\",\n",
    "        name=model.__class__.__name__,\n",
    "    ),\n",
    ")\n",
    "trainer.fit(model)"
   ]
  },
  {
   "cell_type": "code",
   "execution_count": null,
   "metadata": {},
   "outputs": [],
   "source": [
    "# Get logged stuff\n",
    "log_dir = trainer.log_dir\n",
    "assert isinstance(log_dir, str)\n",
    "logs = trainer.logged_metrics\n",
    "assert isinstance(logs, dict)\n",
    "logger.info(log_dir)\n",
    "logger.info(logs)\n",
    "filename = os.path.join(log_dir, \"metrics.csv\")\n",
    "df = pd.read_csv(filename)\n",
    "logger.info(df.head())"
   ]
  },
  {
   "cell_type": "code",
   "execution_count": null,
   "metadata": {},
   "outputs": [],
   "source": [
    "import matplotlib.pyplot as plt\n",
    "\n",
    "# Plot\n",
    "plot_metrics(df, show=True)"
   ]
  },
  {
   "cell_type": "code",
   "execution_count": null,
   "metadata": {},
   "outputs": [],
   "source": []
  }
 ],
 "metadata": {
  "kernelspec": {
   "display_name": "chess-rl",
   "language": "python",
   "name": "python3"
  },
  "language_info": {
   "codemirror_mode": {
    "name": "ipython",
    "version": 3
   },
   "file_extension": ".py",
   "mimetype": "text/x-python",
   "name": "python",
   "nbconvert_exporter": "python",
   "pygments_lexer": "ipython3",
   "version": "3.10.10"
  }
 },
 "nbformat": 4,
 "nbformat_minor": 2
}
